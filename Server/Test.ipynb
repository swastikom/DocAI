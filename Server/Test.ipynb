{
 "cells": [
  {
   "cell_type": "code",
   "execution_count": 153,
   "metadata": {},
   "outputs": [
    {
     "data": {
      "text/plain": [
       "True"
      ]
     },
     "execution_count": 153,
     "metadata": {},
     "output_type": "execute_result"
    }
   ],
   "source": [
    "from dotenv import load_dotenv\n",
    "import os\n",
    "load_dotenv()"
   ]
  },
  {
   "cell_type": "code",
   "execution_count": 154,
   "metadata": {},
   "outputs": [],
   "source": [
    "import google.generativeai as genai"
   ]
  },
  {
   "cell_type": "code",
   "execution_count": 155,
   "metadata": {},
   "outputs": [],
   "source": [
    "genai.configure(api_key=os.environ.get(\"GOOGLE_API_KEY\"))"
   ]
  },
  {
   "cell_type": "code",
   "execution_count": 156,
   "metadata": {},
   "outputs": [],
   "source": [
    "from langchain import PromptTemplate\n",
    "from langchain.chains.question_answering import load_qa_chain\n",
    "from langchain.document_loaders import PyPDFLoader\n",
    "from langchain.text_splitter import RecursiveCharacterTextSplitter\n",
    "from langchain.vectorstores import Chroma"
   ]
  },
  {
   "cell_type": "code",
   "execution_count": 157,
   "metadata": {},
   "outputs": [],
   "source": [
    "from langchain_google_genai import ChatGoogleGenerativeAI\n"
   ]
  },
  {
   "cell_type": "code",
   "execution_count": 158,
   "metadata": {},
   "outputs": [],
   "source": [
    "# model = genai.GenerativeModel('gemini-pro')\n",
    "# response = model.generate_content(\"How to stay active as a male?\")\n",
    "# print(response.text)\n"
   ]
  },
  {
   "cell_type": "code",
   "execution_count": 159,
   "metadata": {},
   "outputs": [],
   "source": [
    "prompt_template = \"\"\"Answer the question as precise as possible using the provided context. If the answer is\n",
    "                    not contained in the context, say \"answer not available in context\" \\n\\n\n",
    "                    Context: \\n {context}?\\n\n",
    "                    Question: \\n {question} \\n\n",
    "                    Answer:\n",
    "                  \"\"\"\n",
    "\n",
    "prompt = PromptTemplate(\n",
    "    template=prompt_template, input_variables=[\"context\", \"question\"]\n",
    ")"
   ]
  },
  {
   "cell_type": "code",
   "execution_count": 160,
   "metadata": {},
   "outputs": [],
   "source": [
    "model = ChatGoogleGenerativeAI(model=\"gemini-pro\",temperature=0.8)\n",
    "\n",
    "chain = load_qa_chain(model, chain_type='stuff', prompt=prompt)\n"
   ]
  },
  {
   "cell_type": "code",
   "execution_count": 161,
   "metadata": {},
   "outputs": [],
   "source": [
    "from langchain_google_genai import GoogleGenerativeAIEmbeddings"
   ]
  },
  {
   "cell_type": "code",
   "execution_count": 162,
   "metadata": {},
   "outputs": [],
   "source": [
    "text_splitter = RecursiveCharacterTextSplitter(chunk_size=10000, chunk_overlap=500)\n",
    "context = \"\"\"\n",
    "\n",
    "Dear Arko,\n",
    "I hope you're doing well! I recently visited Shimla and had an amazing time, so I wanted to\n",
    "share a bit about my trip with you.\n",
    "The journey started with the toy train ride from Kalka, which was an incredible experience\n",
    "with its scenic views and winding tracks. Shimla itself is beautiful, with its colonial\n",
    "architecture and vibrant streets. The Ridge offered breathtaking views, and I loved strolling\n",
    "along Mall Road, exploring shops, and indulging in local cuisine.\n",
    "A visit to Jakhoo Temple was a highlight, with stunning city views and playful monkeys along\n",
    "the way. I also took a short trip to Kufri, where I enjoyed the serene beauty and even tried\n",
    "horse riding.\n",
    "The locals were warm and welcoming, adding to the charm of the trip. Shimla was the\n",
    "perfect escape from the city's hustle and bustle.\n",
    "I wish you could have been there to share the experience. Let's plan a trip together soon!\n",
    "Take care and stay in touch!\n",
    "Warm regards,\n",
    "Swastik Dhar\n",
    "\n",
    "\"\"\"\n",
    "texts = text_splitter.split_text(context)"
   ]
  },
  {
   "cell_type": "code",
   "execution_count": 163,
   "metadata": {},
   "outputs": [],
   "source": [
    "embeddings = GoogleGenerativeAIEmbeddings(model=\"models/embedding-001\")"
   ]
  },
  {
   "cell_type": "code",
   "execution_count": 164,
   "metadata": {},
   "outputs": [],
   "source": [
    "vector_index = Chroma.from_texts(texts, embeddings).as_retriever()\n"
   ]
  },
  {
   "cell_type": "code",
   "execution_count": 165,
   "metadata": {},
   "outputs": [],
   "source": [
    "question = \"Is Arko Swastik's friend?\"\n",
    "docs = vector_index.invoke(question)\n"
   ]
  },
  {
   "cell_type": "code",
   "execution_count": 166,
   "metadata": {},
   "outputs": [
    {
     "data": {
      "text/plain": [
       "[Document(page_content=\"Dear Arko,\\nI hope you're doing well! I recently visited Shimla and had an amazing time, so I wanted to\\nshare a bit about my trip with you.\\nThe journey started with the toy train ride from Kalka, which was an incredible experience\\nwith its scenic views and winding tracks. Shimla itself is beautiful, with its colonial\\narchitecture and vibrant streets. The Ridge offered breathtaking views, and I loved strolling\\nalong Mall Road, exploring shops, and indulging in local cuisine.\\nA visit to Jakhoo Temple was a highlight, with stunning city views and playful monkeys along\\nthe way. I also took a short trip to Kufri, where I enjoyed the serene beauty and even tried\\nhorse riding.\\nThe locals were warm and welcoming, adding to the charm of the trip. Shimla was the\\nperfect escape from the city's hustle and bustle.\\nI wish you could have been there to share the experience. Let's plan a trip together soon!\\nTake care and stay in touch!\\nWarm regards,\\nSwastik Dhar\"),\n",
       " Document(page_content=\"Dear Arko,\\nI hope you're doing well! I recently visited Shimla and had an amazing time, so I wanted to\\nshare a bit about my trip with you.\\nThe journey started with the toy train ride from Kalka, which was an incredible experience\\nwith its scenic views and winding tracks. Shimla itself is beautiful, with its colonial\\narchitecture and vibrant streets. The Ridge offered breathtaking views, and I loved strolling\\nalong Mall Road, exploring shops, and indulging in local cuisine.\\nA visit to Jakhoo Temple was a highlight, with stunning city views and playful monkeys along\\nthe way. I also took a short trip to Kufri, where I enjoyed the serene beauty and even tried\\nhorse riding.\\nThe locals were warm and welcoming, adding to the charm of the trip. Shimla was the\\nperfect escape from the city's hustle and bustle.\\nI wish you could have been there to share the experience. Let's plan a trip together soon!\\nTake care and stay in touch!\\nWarm regards,\\nSwastik Dhar\"),\n",
       " Document(page_content=\"Dear Arko,\\nI hope you're doing well! I recently visited Shimla and had an amazing time, so I wanted to\\nshare a bit about my trip with you.\\nThe journey started with the toy train ride from Kalka, which was an incredible experience\\nwith its scenic views and winding tracks. Shimla itself is beautiful, with its colonial\\narchitecture and vibrant streets. The Ridge offered breathtaking views, and I loved strolling\\nalong Mall Road, exploring shops, and indulging in local cuisine.\\nA visit to Jakhoo Temple was a highlight, with stunning city views and playful monkeys along\\nthe way. I also took a short trip to Kufri, where I enjoyed the serene beauty and even tried\\nhorse riding.\\nThe locals were warm and welcoming, adding to the charm of the trip. Shimla was the\\nperfect escape from the city's hustle and bustle.\\nI wish you could have been there to share the experience. Let's plan a trip together soon!\\nTake care and stay in touch!\\nWarm regards,\\nSwastik Dhar\"),\n",
       " Document(page_content=\"Dear Arko,\\nI hope you're doing well! I recently visited Shimla and had an amazing time, so I wanted to\\nshare a bit about my trip with you.\\nThe journey started with the toy train ride from Kalka, which was an incredible experience\\nwith its scenic views and winding tracks. Shimla itself is beautiful, with its colonial\\narchitecture and vibrant streets. The Ridge offered breathtaking views, and I loved strolling\\nalong Mall Road, exploring shops, and indulging in local cuisine.\\nA visit to Jakhoo Temple was a highlight, with stunning city views and playful monkeys along\\nthe way. I also took a short trip to Kufri, where I enjoyed the serene beauty and even tried\\nhorse riding.\\nThe locals were warm and welcoming, adding to the charm of the trip. Shimla was the\\nperfect escape from the city's hustle and bustle.\\nI wish you could have been there to share the experience. Let's plan a trip together soon!\\nTake care and stay in touch!\\nWarm regards,\\nSwastik Dhar\")]"
      ]
     },
     "execution_count": 166,
     "metadata": {},
     "output_type": "execute_result"
    }
   ],
   "source": [
    "docs"
   ]
  },
  {
   "cell_type": "code",
   "execution_count": 167,
   "metadata": {},
   "outputs": [],
   "source": [
    "stuff_answer = chain.invoke(\n",
    "    {\"input_documents\": docs, \"question\": question}, return_only_outputs=True\n",
    ")\n"
   ]
  },
  {
   "cell_type": "code",
   "execution_count": 170,
   "metadata": {},
   "outputs": [
    {
     "data": {
      "text/plain": [
       "'Yes'"
      ]
     },
     "execution_count": 170,
     "metadata": {},
     "output_type": "execute_result"
    }
   ],
   "source": [
    "stuff_answer['output_text']"
   ]
  }
 ],
 "metadata": {
  "kernelspec": {
   "display_name": "Python 3",
   "language": "python",
   "name": "python3"
  },
  "language_info": {
   "codemirror_mode": {
    "name": "ipython",
    "version": 3
   },
   "file_extension": ".py",
   "mimetype": "text/x-python",
   "name": "python",
   "nbconvert_exporter": "python",
   "pygments_lexer": "ipython3",
   "version": "3.11.8"
  }
 },
 "nbformat": 4,
 "nbformat_minor": 2
}
