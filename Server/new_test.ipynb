{
 "cells": [
  {
   "cell_type": "code",
   "execution_count": 631,
   "metadata": {},
   "outputs": [],
   "source": [
    "\n",
    "import google.generativeai as genai\n",
    "from langchain_google_genai import GoogleGenerativeAIEmbeddings\n",
    "from langchain.text_splitter import CharacterTextSplitter\n",
    "from langchain_community.vectorstores import FAISS\n",
    "from dotenv import load_dotenv\n",
    "import os"
   ]
  },
  {
   "cell_type": "code",
   "execution_count": 632,
   "metadata": {},
   "outputs": [],
   "source": []
  },
  {
   "cell_type": "code",
   "execution_count": 633,
   "metadata": {},
   "outputs": [
    {
     "data": {
      "text/plain": [
       "True"
      ]
     },
     "execution_count": 633,
     "metadata": {},
     "output_type": "execute_result"
    }
   ],
   "source": [
    "# # Load environment variables from .env file\n",
    "load_dotenv()"
   ]
  },
  {
   "cell_type": "code",
   "execution_count": 634,
   "metadata": {},
   "outputs": [],
   "source": [
    "genai.configure(api_key=os.environ.get(\"GOOGLE_API_KEY\"))\n"
   ]
  },
  {
   "cell_type": "code",
   "execution_count": 635,
   "metadata": {},
   "outputs": [],
   "source": [
    "raw_text= \"\"\" \n",
    "\n",
    "Dear Arko,\n",
    "I hope you're doing well! I recently visited Shimla and had an amazing time, so I wanted to\n",
    "share a bit about my trip with you.\n",
    "The journey started with the toy train ride from Kalka, which was an incredible experience\n",
    "with its scenic views and winding tracks. Shimla itself is beautiful, with its colonial\n",
    "architecture and vibrant streets. The Ridge offered breathtaking views, and I loved strolling\n",
    "along Mall Road, exploring shops, and indulging in local cuisine.\n",
    "A visit to Jakhoo Temple was a highlight, with stunning city views and playful monkeys along\n",
    "the way. I also took a short trip to Kufri, where I enjoyed the serene beauty and even tried\n",
    "horse riding.\n",
    "The locals were warm and welcoming, adding to the charm of the trip. Shimla was the\n",
    "perfect escape from the city's hustle and bustle.\n",
    "I wish you could have been there to share the experience. Let's plan a trip together soon!\n",
    "Take care and stay in touch!\n",
    "Warm regards,\n",
    "Swastik Dhar\n",
    "\n",
    "\n",
    "\"\"\""
   ]
  },
  {
   "cell_type": "code",
   "execution_count": 636,
   "metadata": {},
   "outputs": [],
   "source": [
    "question = \"How was the trip for Swastik Dhar? \""
   ]
  },
  {
   "cell_type": "code",
   "execution_count": 637,
   "metadata": {},
   "outputs": [
    {
     "data": {
      "text/plain": [
       "[\"Dear Arko,\\nI hope you're doing well! I recently visited Shimla and had an amazing time, so I wanted to\\nshare a bit about my trip with you.\\nThe journey started with the toy train ride from Kalka, which was an incredible experience\\nwith its scenic views and winding tracks. Shimla itself is beautiful, with its colonial\\narchitecture and vibrant streets. The Ridge offered breathtaking views, and I loved strolling\\nalong Mall Road, exploring shops, and indulging in local cuisine.\\nA visit to Jakhoo Temple was a highlight, with stunning city views and playful monkeys along\\nthe way. I also took a short trip to Kufri, where I enjoyed the serene beauty and even tried\\nhorse riding.\\nThe locals were warm and welcoming, adding to the charm of the trip. Shimla was the\\nperfect escape from the city's hustle and bustle.\\nI wish you could have been there to share the experience. Let's plan a trip together soon!\\nTake care and stay in touch!\\nWarm regards,\\nSwastik Dhar\"]"
      ]
     },
     "execution_count": 637,
     "metadata": {},
     "output_type": "execute_result"
    }
   ],
   "source": [
    "# Split the text into chunks using a character-based splitter\n",
    "    # The chunks should be small enough to avoid exceeding token limits\n",
    "text_splitter = CharacterTextSplitter(\n",
    "        separator=\"\\n\",  # Split the text at newline characters\n",
    "        chunk_size=10000,  # Maximum size of each chunk\n",
    "        chunk_overlap=800,  # Overlap between consecutive chunks\n",
    "        length_function=len,  # Function to calculate the length of each chunk\n",
    "    )\n",
    "texts = text_splitter.split_text(raw_text)  # Split the raw text into chunks\n",
    "texts"
   ]
  },
  {
   "cell_type": "code",
   "execution_count": 638,
   "metadata": {},
   "outputs": [
    {
     "data": {
      "text/plain": [
       "GoogleGenerativeAIEmbeddings(client=<google.ai.generativelanguage_v1beta.services.generative_service.client.GenerativeServiceClient object at 0x0000014700198910>, model='models/embedding-001', task_type=None, google_api_key=None, credentials=None, client_options=None, transport=None, request_options=None)"
      ]
     },
     "execution_count": 638,
     "metadata": {},
     "output_type": "execute_result"
    }
   ],
   "source": [
    "embeddings = GoogleGenerativeAIEmbeddings(model=\"models/embedding-001\")\n",
    "\n",
    "embeddings\n"
   ]
  },
  {
   "cell_type": "code",
   "execution_count": 639,
   "metadata": {},
   "outputs": [
    {
     "data": {
      "text/plain": [
       "<langchain_community.vectorstores.faiss.FAISS at 0x147001cff50>"
      ]
     },
     "execution_count": 639,
     "metadata": {},
     "output_type": "execute_result"
    }
   ],
   "source": [
    "document_search = FAISS.from_texts(texts, embeddings)\n",
    "document_search\n"
   ]
  },
  {
   "cell_type": "code",
   "execution_count": 640,
   "metadata": {},
   "outputs": [
    {
     "data": {
      "text/plain": [
       "[Document(page_content=\"Dear Arko,\\nI hope you're doing well! I recently visited Shimla and had an amazing time, so I wanted to\\nshare a bit about my trip with you.\\nThe journey started with the toy train ride from Kalka, which was an incredible experience\\nwith its scenic views and winding tracks. Shimla itself is beautiful, with its colonial\\narchitecture and vibrant streets. The Ridge offered breathtaking views, and I loved strolling\\nalong Mall Road, exploring shops, and indulging in local cuisine.\\nA visit to Jakhoo Temple was a highlight, with stunning city views and playful monkeys along\\nthe way. I also took a short trip to Kufri, where I enjoyed the serene beauty and even tried\\nhorse riding.\\nThe locals were warm and welcoming, adding to the charm of the trip. Shimla was the\\nperfect escape from the city's hustle and bustle.\\nI wish you could have been there to share the experience. Let's plan a trip together soon!\\nTake care and stay in touch!\\nWarm regards,\\nSwastik Dhar\")]"
      ]
     },
     "execution_count": 640,
     "metadata": {},
     "output_type": "execute_result"
    }
   ],
   "source": [
    "docs = document_search.similarity_search(question)\n",
    "docs"
   ]
  },
  {
   "cell_type": "code",
   "execution_count": 641,
   "metadata": {},
   "outputs": [
    {
     "data": {
      "text/plain": [
       "'Hey Can you answer me the following question? My question is: How was the trip for Swastik Dhar? also I got the following text for you help. Following text: page_content=\"Dear Arko,\\\\nI hope you\\'re doing well! I recently visited Shimla and had an amazing time, so I wanted to\\\\nshare a bit about my trip with you.\\\\nThe journey started with the toy train ride from Kalka, which was an incredible experience\\\\nwith its scenic views and winding tracks. Shimla itself is beautiful, with its colonial\\\\narchitecture and vibrant streets. The Ridge offered breathtaking views, and I loved strolling\\\\nalong Mall Road, exploring shops, and indulging in local cuisine.\\\\nA visit to Jakhoo Temple was a highlight, with stunning city views and playful monkeys along\\\\nthe way. I also took a short trip to Kufri, where I enjoyed the serene beauty and even tried\\\\nhorse riding.\\\\nThe locals were warm and welcoming, adding to the charm of the trip. Shimla was the\\\\nperfect escape from the city\\'s hustle and bustle.\\\\nI wish you could have been there to share the experience. Let\\'s plan a trip together soon!\\\\nTake care and stay in touch!\\\\nWarm regards,\\\\nSwastik Dhar\"'"
      ]
     },
     "execution_count": 641,
     "metadata": {},
     "output_type": "execute_result"
    }
   ],
   "source": [
    "prompt = \"Hey Can you answer me the following question? My question is: \"+question + \"also I got the following text for you help. Following text: \"+str(docs[0])\n",
    "prompt"
   ]
  },
  {
   "cell_type": "code",
   "execution_count": 642,
   "metadata": {},
   "outputs": [
    {
     "data": {
      "text/plain": [
       "ChatSession(\n",
       "    model=genai.GenerativeModel(\n",
       "        model_name='models/gemini-pro',\n",
       "        generation_config={},\n",
       "        safety_settings={},\n",
       "        tools=None,\n",
       "        system_instruction=None,\n",
       "    ),\n",
       "    history=[]\n",
       ")"
      ]
     },
     "execution_count": 642,
     "metadata": {},
     "output_type": "execute_result"
    }
   ],
   "source": [
    "model = genai.GenerativeModel('gemini-pro')\n",
    "chat = model.start_chat(history=[])\n",
    "chat"
   ]
  },
  {
   "cell_type": "code",
   "execution_count": 643,
   "metadata": {},
   "outputs": [
    {
     "data": {
      "text/plain": [
       "response:\n",
       "GenerateContentResponse(\n",
       "    done=True,\n",
       "    iterator=None,\n",
       "    result=glm.GenerateContentResponse({\n",
       "      \"candidates\": [\n",
       "        {\n",
       "          \"content\": {\n",
       "            \"parts\": [\n",
       "              {\n",
       "                \"text\": \"The given text does not provide any information about Swastik Dhar's trip.\"\n",
       "              }\n",
       "            ],\n",
       "            \"role\": \"model\"\n",
       "          },\n",
       "          \"finish_reason\": 1,\n",
       "          \"index\": 0,\n",
       "          \"safety_ratings\": [\n",
       "            {\n",
       "              \"category\": 9,\n",
       "              \"probability\": 1,\n",
       "              \"blocked\": false\n",
       "            },\n",
       "            {\n",
       "              \"category\": 8,\n",
       "              \"probability\": 1,\n",
       "              \"blocked\": false\n",
       "            },\n",
       "            {\n",
       "              \"category\": 7,\n",
       "              \"probability\": 1,\n",
       "              \"blocked\": false\n",
       "            },\n",
       "            {\n",
       "              \"category\": 10,\n",
       "              \"probability\": 1,\n",
       "              \"blocked\": false\n",
       "            }\n",
       "          ],\n",
       "          \"token_count\": 0,\n",
       "          \"grounding_attributions\": []\n",
       "        }\n",
       "      ],\n",
       "      \"usage_metadata\": {\n",
       "        \"prompt_token_count\": 269,\n",
       "        \"candidates_token_count\": 17,\n",
       "        \"total_token_count\": 286\n",
       "      }\n",
       "    }),\n",
       ")"
      ]
     },
     "execution_count": 643,
     "metadata": {},
     "output_type": "execute_result"
    }
   ],
   "source": [
    "response = chat.send_message(prompt)\n",
    "response"
   ]
  },
  {
   "cell_type": "code",
   "execution_count": 644,
   "metadata": {},
   "outputs": [
    {
     "data": {
      "text/plain": [
       "'I am sure that the given text does not provide any information about how the trip was for Swastik Dhar. The text only describes the places that Swastik Dhar visited and the activities they engaged in during their trip to Shimla. It does not provide any subjective评价 or感想s about the trip experience itself.'"
      ]
     },
     "execution_count": 644,
     "metadata": {},
     "output_type": "execute_result"
    }
   ],
   "source": [
    "import textwrap\n",
    "\n",
    "\n",
    "response = chat.send_message(prompt+\"Are you sure?\", stream=True)\n",
    "response\n",
    "x=\"\"\n",
    "for chunk in response:\n",
    "  x+=chunk.text\n",
    "\n",
    "x = x.replace('*', '')\n",
    "x = x.replace('**','')\n",
    "x\n",
    "  \n",
    "  "
   ]
  },
  {
   "cell_type": "code",
   "execution_count": 645,
   "metadata": {},
   "outputs": [
    {
     "name": "stdout",
     "output_type": "stream",
     "text": [
      "The provided text is written by Swastik Dhar, who is sharing their travel\n",
      " experience in Shimla with the recipient Arko. However, the text does not explicitly state how the trip was for Swastik Dhar. It only describes the\n",
      " places they visited and the activities they engaged in during their trip.\n",
      "\n",
      "Without additional information, we cannot determine how Swastik Dhar felt about their trip.\n"
     ]
    }
   ],
   "source": [
    "response = chat.send_message(prompt+\"No it was the Swastik Dhar who is sharing his travelling expreience.\", stream=True)\n",
    "for chunk in response:\n",
    "  print(chunk.text)\n",
    "  "
   ]
  },
  {
   "cell_type": "code",
   "execution_count": 646,
   "metadata": {},
   "outputs": [
    {
     "data": {
      "text/plain": [
       "[parts {\n",
       "   text: \"Hey Can you answer me the following question? My question is: How was the trip for Swastik Dhar? also I got the following text for you help. Following text: page_content=\\\"Dear Arko,\\\\nI hope you\\'re doing well! I recently visited Shimla and had an amazing time, so I wanted to\\\\nshare a bit about my trip with you.\\\\nThe journey started with the toy train ride from Kalka, which was an incredible experience\\\\nwith its scenic views and winding tracks. Shimla itself is beautiful, with its colonial\\\\narchitecture and vibrant streets. The Ridge offered breathtaking views, and I loved strolling\\\\nalong Mall Road, exploring shops, and indulging in local cuisine.\\\\nA visit to Jakhoo Temple was a highlight, with stunning city views and playful monkeys along\\\\nthe way. I also took a short trip to Kufri, where I enjoyed the serene beauty and even tried\\\\nhorse riding.\\\\nThe locals were warm and welcoming, adding to the charm of the trip. Shimla was the\\\\nperfect escape from the city\\'s hustle and bustle.\\\\nI wish you could have been there to share the experience. Let\\'s plan a trip together soon!\\\\nTake care and stay in touch!\\\\nWarm regards,\\\\nSwastik Dhar\\\"\"\n",
       " }\n",
       " role: \"user\",\n",
       " parts {\n",
       "   text: \"The given text does not provide any information about Swastik Dhar\\'s trip.\"\n",
       " }\n",
       " role: \"model\",\n",
       " parts {\n",
       "   text: \"Hey Can you answer me the following question? My question is: How was the trip for Swastik Dhar? also I got the following text for you help. Following text: page_content=\\\"Dear Arko,\\\\nI hope you\\'re doing well! I recently visited Shimla and had an amazing time, so I wanted to\\\\nshare a bit about my trip with you.\\\\nThe journey started with the toy train ride from Kalka, which was an incredible experience\\\\nwith its scenic views and winding tracks. Shimla itself is beautiful, with its colonial\\\\narchitecture and vibrant streets. The Ridge offered breathtaking views, and I loved strolling\\\\nalong Mall Road, exploring shops, and indulging in local cuisine.\\\\nA visit to Jakhoo Temple was a highlight, with stunning city views and playful monkeys along\\\\nthe way. I also took a short trip to Kufri, where I enjoyed the serene beauty and even tried\\\\nhorse riding.\\\\nThe locals were warm and welcoming, adding to the charm of the trip. Shimla was the\\\\nperfect escape from the city\\'s hustle and bustle.\\\\nI wish you could have been there to share the experience. Let\\'s plan a trip together soon!\\\\nTake care and stay in touch!\\\\nWarm regards,\\\\nSwastik Dhar\\\"Are you sure?\"\n",
       " }\n",
       " role: \"user\",\n",
       " parts {\n",
       "   text: \"I am sure that the given text does not provide any information about how the trip was for Swastik Dhar. The text only describes the places that Swastik Dhar visited and the activities they engaged in during their trip to Shimla. It does not provide any subjective评价 or感想s about the trip experience itself.\"\n",
       " }\n",
       " role: \"model\",\n",
       " parts {\n",
       "   text: \"Hey Can you answer me the following question? My question is: How was the trip for Swastik Dhar? also I got the following text for you help. Following text: page_content=\\\"Dear Arko,\\\\nI hope you\\'re doing well! I recently visited Shimla and had an amazing time, so I wanted to\\\\nshare a bit about my trip with you.\\\\nThe journey started with the toy train ride from Kalka, which was an incredible experience\\\\nwith its scenic views and winding tracks. Shimla itself is beautiful, with its colonial\\\\narchitecture and vibrant streets. The Ridge offered breathtaking views, and I loved strolling\\\\nalong Mall Road, exploring shops, and indulging in local cuisine.\\\\nA visit to Jakhoo Temple was a highlight, with stunning city views and playful monkeys along\\\\nthe way. I also took a short trip to Kufri, where I enjoyed the serene beauty and even tried\\\\nhorse riding.\\\\nThe locals were warm and welcoming, adding to the charm of the trip. Shimla was the\\\\nperfect escape from the city\\'s hustle and bustle.\\\\nI wish you could have been there to share the experience. Let\\'s plan a trip together soon!\\\\nTake care and stay in touch!\\\\nWarm regards,\\\\nSwastik Dhar\\\"No it was the Swastik Dhar who is sharing his travelling expreience.\"\n",
       " }\n",
       " role: \"user\",\n",
       " parts {\n",
       "   text: \"The provided text is written by Swastik Dhar, who is sharing their travel experience in Shimla with the recipient Arko. However, the text does not explicitly state how the trip was for Swastik Dhar. It only describes the places they visited and the activities they engaged in during their trip.\\n\\nWithout additional information, we cannot determine how Swastik Dhar felt about their trip.\"\n",
       " }\n",
       " role: \"model\"]"
      ]
     },
     "execution_count": 646,
     "metadata": {},
     "output_type": "execute_result"
    }
   ],
   "source": [
    "chat.history"
   ]
  },
  {
   "cell_type": "code",
   "execution_count": 647,
   "metadata": {},
   "outputs": [
    {
     "data": {
      "text/plain": [
       "[]"
      ]
     },
     "execution_count": 647,
     "metadata": {},
     "output_type": "execute_result"
    }
   ],
   "source": [
    "chat.history.clear()\n",
    "chat.history"
   ]
  },
  {
   "cell_type": "code",
   "execution_count": 648,
   "metadata": {},
   "outputs": [],
   "source": [
    " # Ensure the OpenAI API key is set\n",
    "#     api_key = os.getenv(\"OPENAI_API_KEY\")\n",
    "#     if not api_key:\n",
    "#         raise ValueError(\"OPENAI_API_KEY environment variable not set\")\n",
    "\n",
    "#     # Initialize the OpenAI object with the API key\n",
    "#     openai = OpenAI(api_key=api_key)\n",
    "\n",
    "#     # Split the text into chunks using a character-based splitter\n",
    "#     # The chunks should be small enough to avoid exceeding token limits\n",
    "#     text_splitter = CharacterTextSplitter(\n",
    "#         separator=\"\\n\",  # Split the text at newline characters\n",
    "#         chunk_size=800,  # Maximum size of each chunk\n",
    "#         chunk_overlap=200,  # Overlap between consecutive chunks\n",
    "#         length_function=len,  # Function to calculate the length of each chunk\n",
    "#     )\n",
    "#     texts = text_splitter.split_text(raw_text)  # Split the raw text into chunks\n",
    "\n",
    "#     # Download embeddings from OpenAI\n",
    "#     embeddings = OpenAIEmbeddings(api_key=api_key)\n",
    "\n",
    "#     # Create a FAISS index from the text chunks and their embeddings\n",
    "#     document_search = FAISS.from_texts(texts, embeddings)\n",
    "\n",
    "#     # Load the question-answering chain with the OpenAI model\n",
    "#     chain = load_qa_chain(openai, chain_type=\"stuff\")\n",
    "\n",
    "#     # Perform a similarity search on the documents to find the most relevant chunks\n",
    "#     docs = document_search.similarity_search(question)\n",
    "    \n",
    "#     # Use the question-answering chain to generate an answer based on the relevant documents\n",
    "#     result = chain.invoke({\"input_documents\": docs, \"question\": question})\n",
    "    \n",
    "#     # Extract the answer text from the result\n",
    "#     answer = result[\"output_text\"]\n",
    "    \n",
    "#     return answer"
   ]
  }
 ],
 "metadata": {
  "kernelspec": {
   "display_name": "base",
   "language": "python",
   "name": "python3"
  },
  "language_info": {
   "codemirror_mode": {
    "name": "ipython",
    "version": 3
   },
   "file_extension": ".py",
   "mimetype": "text/x-python",
   "name": "python",
   "nbconvert_exporter": "python",
   "pygments_lexer": "ipython3",
   "version": "3.11.8"
  }
 },
 "nbformat": 4,
 "nbformat_minor": 2
}
